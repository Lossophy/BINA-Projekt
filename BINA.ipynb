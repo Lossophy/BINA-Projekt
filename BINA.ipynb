{
  "cells": [
    {
      "cell_type": "markdown",
      "source": [
        "Für die Projektarbeit blblablablabla"
      ],
      "metadata": {
        "id": "bGrvmnO7viVb"
      },
      "id": "bGrvmnO7viVb"
    },
    {
      "cell_type": "code",
      "execution_count": null,
      "id": "10a5401d-27de-4358-9515-e8c572e90176",
      "metadata": {
        "id": "10a5401d-27de-4358-9515-e8c572e90176"
      },
      "outputs": [],
      "source": [
        "print(\"hello world\")\n",
        "\n",
        "\n",
        "\n",
        "\n",
        "\n",
        "halloo\n",
        "\n",
        "ciao bella hello saletti ajkadskadkjda blabla"
      ]
    }
  ],
  "metadata": {
    "colab": {
      "provenance": []
    },
    "kernelspec": {
      "display_name": "Python 3 (ipykernel)",
      "language": "python",
      "name": "python3"
    },
    "language_info": {
      "codemirror_mode": {
        "name": "ipython",
        "version": 3
      },
      "file_extension": ".py",
      "mimetype": "text/x-python",
      "name": "python",
      "nbconvert_exporter": "python",
      "pygments_lexer": "ipython3",
      "version": "3.13.2"
    }
  },
  "nbformat": 4,
  "nbformat_minor": 5
}