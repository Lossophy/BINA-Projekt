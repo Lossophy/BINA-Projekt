{
  "cells": [
    {
      "cell_type": "code",
      "execution_count": null,
      "id": "5a2b1381-8945-4962-8241-14af21683f1f",
      "metadata": {
        "id": "5a2b1381-8945-4962-8241-14af21683f1f"
      },
      "outputs": [],
      "source": [
        "Test"
      ]
    }
  ],
  "metadata": {
    "kernelspec": {
      "display_name": "Python 3 (ipykernel)",
      "language": "python",
      "name": "python3"
    },
    "language_info": {
      "codemirror_mode": {
        "name": "ipython",
        "version": 3
      },
      "file_extension": ".py",
      "mimetype": "text/x-python",
      "name": "python",
      "nbconvert_exporter": "python",
      "pygments_lexer": "ipython3",
      "version": "3.13.2"
    },
    "colab": {
      "provenance": [],
      "toc_visible": true
    }
  },
  "nbformat": 4,
  "nbformat_minor": 5
}