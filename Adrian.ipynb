{
  "cells": [
    {
      "cell_type": "markdown",
      "source": [
        "Vorbereitung der benötigten Bibliotheken"
      ],
      "metadata": {
        "id": "VcGHxNvaYhxC"
      },
      "id": "VcGHxNvaYhxC"
    },
    {
      "cell_type": "code",
      "execution_count": null,
      "id": "8c9d93d7-5c65-4c98-926a-46997f1445e2",
      "metadata": {
        "id": "8c9d93d7-5c65-4c98-926a-46997f1445e2"
      },
      "outputs": [],
      "source": [
        "import pandas as pd\n",
        "import numpy as np\n",
        "import matplotlib.pyplot as plt\n",
        "import seaborn as sns\n"
      ]
    },
    {
      "cell_type": "markdown",
      "source": [
        "Import der Daten"
      ],
      "metadata": {
        "id": "KP0DkvMNZR33"
      },
      "id": "KP0DkvMNZR33"
    }
  ],
  "metadata": {
    "kernelspec": {
      "display_name": "Python 3 (ipykernel)",
      "language": "python",
      "name": "python3"
    },
    "language_info": {
      "codemirror_mode": {
        "name": "ipython",
        "version": 3
      },
      "file_extension": ".py",
      "mimetype": "text/x-python",
      "name": "python",
      "nbconvert_exporter": "python",
      "pygments_lexer": "ipython3",
      "version": "3.13.2"
    },
    "colab": {
      "provenance": []
    }
  },
  "nbformat": 4,
  "nbformat_minor": 5
}